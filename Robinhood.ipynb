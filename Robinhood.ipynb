{
 "cells": [
  {
   "cell_type": "markdown",
   "metadata": {},
   "source": [
    "[Iron Condor Calculator](https://www.optionsprofitcalculator.com/calculator/iron-condor.html)"
   ]
  },
  {
   "cell_type": "code",
   "execution_count": 1,
   "metadata": {
    "ExecuteTime": {
     "end_time": "2020-08-24T19:53:37.461825Z",
     "start_time": "2020-08-24T19:53:36.623904Z"
    }
   },
   "outputs": [],
   "source": [
    "import pandas as pd\n",
    "import matplotlib.pyplot as plt\n",
    "import robin_stocks as r\n",
    "import os\n",
    "import datetime as dt\n",
    "from dotenv import load_dotenv\n",
    "from pathlib import Path\n",
    "\n",
    "env_path = Path('.') / '.env'\n",
    "load_dotenv(dotenv_path=env_path)\n",
    "\n",
    "RH_USER = os.getenv(\"RH_USER\")\n",
    "RH_PASS = os.getenv(\"RH_PASS\")"
   ]
  },
  {
   "cell_type": "code",
   "execution_count": 2,
   "metadata": {
    "ExecuteTime": {
     "end_time": "2020-08-24T19:53:38.116968Z",
     "start_time": "2020-08-24T19:53:37.464757Z"
    }
   },
   "outputs": [
    {
     "data": {
      "text/html": [
       "<div>\n",
       "<style scoped>\n",
       "    .dataframe tbody tr th:only-of-type {\n",
       "        vertical-align: middle;\n",
       "    }\n",
       "\n",
       "    .dataframe tbody tr th {\n",
       "        vertical-align: top;\n",
       "    }\n",
       "\n",
       "    .dataframe thead th {\n",
       "        text-align: right;\n",
       "    }\n",
       "</style>\n",
       "<table border=\"1\" class=\"dataframe\">\n",
       "  <thead>\n",
       "    <tr style=\"text-align: right;\">\n",
       "      <th></th>\n",
       "      <th>price</th>\n",
       "      <th>quantity</th>\n",
       "      <th>average_buy_price</th>\n",
       "      <th>equity</th>\n",
       "      <th>percent_change</th>\n",
       "      <th>equity_change</th>\n",
       "      <th>type</th>\n",
       "      <th>name</th>\n",
       "      <th>id</th>\n",
       "      <th>pe_ratio</th>\n",
       "      <th>percentage</th>\n",
       "      <th>ticker</th>\n",
       "    </tr>\n",
       "  </thead>\n",
       "  <tbody>\n",
       "    <tr>\n",
       "      <th>0</th>\n",
       "      <td>16.095000</td>\n",
       "      <td>22.43318900</td>\n",
       "      <td>15.6019</td>\n",
       "      <td>361.06</td>\n",
       "      <td>3.16</td>\n",
       "      <td>11.061805</td>\n",
       "      <td>stock</td>\n",
       "      <td>Carnival</td>\n",
       "      <td>3324b13c-dc23-40e8-8807-76d87fdb09ed</td>\n",
       "      <td>None</td>\n",
       "      <td>96.72</td>\n",
       "      <td>CCL</td>\n",
       "    </tr>\n",
       "    <tr>\n",
       "      <th>1</th>\n",
       "      <td>25.615000</td>\n",
       "      <td>0.47295500</td>\n",
       "      <td>26.3450</td>\n",
       "      <td>12.11</td>\n",
       "      <td>-2.77</td>\n",
       "      <td>-0.345257</td>\n",
       "      <td>stock</td>\n",
       "      <td>Bank of America</td>\n",
       "      <td>0dd811b3-7047-448d-96e0-7bf6ee4cfe45</td>\n",
       "      <td>12.003800</td>\n",
       "      <td>3.25</td>\n",
       "      <td>BAC</td>\n",
       "    </tr>\n",
       "  </tbody>\n",
       "</table>\n",
       "</div>"
      ],
      "text/plain": [
       "       price     quantity average_buy_price  equity percent_change  \\\n",
       "0  16.095000  22.43318900           15.6019  361.06           3.16   \n",
       "1  25.615000   0.47295500           26.3450   12.11          -2.77   \n",
       "\n",
       "  equity_change   type             name                                    id  \\\n",
       "0     11.061805  stock         Carnival  3324b13c-dc23-40e8-8807-76d87fdb09ed   \n",
       "1     -0.345257  stock  Bank of America  0dd811b3-7047-448d-96e0-7bf6ee4cfe45   \n",
       "\n",
       "    pe_ratio percentage ticker  \n",
       "0       None      96.72    CCL  \n",
       "1  12.003800       3.25    BAC  "
      ]
     },
     "execution_count": 2,
     "metadata": {},
     "output_type": "execute_result"
    }
   ],
   "source": [
    "r.login(RH_USER, RH_PASS)\n",
    "\n",
    "my_stocks = r.build_holdings()\n",
    "df = pd.DataFrame(my_stocks)\n",
    "df = df.T\n",
    "df['ticker'] = df.index\n",
    "df = df.reset_index(drop=True)\n",
    "df"
   ]
  },
  {
   "cell_type": "code",
   "execution_count": 3,
   "metadata": {
    "ExecuteTime": {
     "end_time": "2020-08-24T19:53:38.379814Z",
     "start_time": "2020-08-24T19:53:38.119925Z"
    }
   },
   "outputs": [
    {
     "data": {
      "text/plain": [
       "<AxesSubplot:>"
      ]
     },
     "execution_count": 3,
     "metadata": {},
     "output_type": "execute_result"
    },
    {
     "data": {
      "image/png": "[encoded data removed]",
      "text/plain": [
       "<Figure size 864x360 with 1 Axes>"
      ]
     },
     "metadata": {
      "needs_background": "light"
     },
     "output_type": "display_data"
    }
   ],
   "source": [
    "ccl_data = r.stocks.get_stock_historicals(\"CCL\", span='week', bounds='regular')\n",
    "ccl = pd.DataFrame(ccl_data)\n",
    "\n",
    "column_list = ['close_price', 'high_price', 'low_price', 'open_price']\n",
    "for i in column_list:\n",
    "    ccl[i] = ccl[i].astype(float)\n",
    "    \n",
    "ccl['close_price'].plot(legend=True, figsize=(12, 5))"
   ]
  },
  {
   "cell_type": "code",
   "execution_count": 4,
   "metadata": {
    "ExecuteTime": {
     "end_time": "2020-08-24T19:53:38.801943Z",
     "start_time": "2020-08-24T19:53:38.381807Z"
    }
   },
   "outputs": [
    {
     "name": "stdout",
     "output_type": "stream",
     "text": [
      "Found Additional pages.\n",
      "Loading page 2 ...\n",
      "Loading page 3 ...\n"
     ]
    }
   ],
   "source": [
    "stock = \"CCL\"\n",
    "\n",
    "options_data = r.options.find_tradable_options(stock, optionType='call')\n",
    "options = pd.DataFrame(options_data)"
   ]
  },
  {
   "cell_type": "code",
   "execution_count": 5,
   "metadata": {
    "ExecuteTime": {
     "end_time": "2020-08-24T19:53:38.833817Z",
     "start_time": "2020-08-24T19:53:38.809883Z"
    }
   },
   "outputs": [],
   "source": [
    "now = dt.datetime.now()\n",
    "start = now + dt.timedelta(30)\n",
    "end = now + dt.timedelta(45)\n",
    "date_generated = [start + dt.timedelta(days=x) for x in range(0, (end-start).days)]\n",
    "\n",
    "date_list = []\n",
    "\n",
    "for date in date_generated:\n",
    "    date_list.append(date.strftime(\"%Y-%m-%d\"))\n",
    "\n",
    "new_df = options[options['expiration_date'].isin(date_list)].reset_index(drop=True)"
   ]
  },
  {
   "cell_type": "code",
   "execution_count": 7,
   "metadata": {
    "ExecuteTime": {
     "end_time": "2020-08-24T20:11:30.467539Z",
     "start_time": "2020-08-24T20:11:30.302286Z"
    }
   },
   "outputs": [
    {
     "name": "stdout",
     "output_type": "stream",
     "text": [
      "15.5000 16.0000 16.5000 17.0000\n"
     ]
    }
   ],
   "source": [
    "current_price = r.stocks.get_latest_price(stock)[0]\n",
    "\n",
    "strike_list = new_df.strike_price.unique().tolist()\n",
    "strike_list.append(current_price)\n",
    "\n",
    "strike_list_sorted = sorted(strike_list, key=float)\n",
    "\n",
    "i = strike_list_sorted.index(current_price)\n",
    "\n",
    "strike_a = strike_list_sorted[i-2] # Long put strike price\n",
    "strike_b = strike_list_sorted[i-1] # Short put strike price\n",
    "strike_c = strike_list_sorted[i+1] # Short call strike price\n",
    "strike_d = strike_list_sorted[i+2] # Long call strike price\n",
    "\n",
    "print(strike_a, strike_b, strike_c, strike_d)\n",
    "\n",
    "exp_date = sorted(new_df.expiration_date.unique())[-1]"
   ]
  },
  {
   "cell_type": "code",
   "execution_count": null,
   "metadata": {},
   "outputs": [],
   "source": [
    "# #long put\n",
    "# r.orders.order_buy_option_limit(current_price, stock, 1, exp_date, strike_a, optionType='put', timeInForce='gfd')\n",
    "\n",
    "# #short put\n",
    "# r.orders.order_buy_option_limit(current_price, stock, 1, exp_date, strike_b, optionType='put', timeInForce='gfd')\n",
    "\n",
    "# #short call\n",
    "# r.orders.order_buy_option_limit(current_price, stock, 1, exp_date, strike_c, optionType='call', timeInForce='gfd')\n",
    "\n",
    "# #long call\n",
    "# r.orders.order_buy_option_limit(current_price, stock, 1, exp_date, strike_d, optionType='call', timeInForce='gfd')\n"
   ]
  }
 ],
 "metadata": {
  "kernelspec": {
   "display_name": "Python 3",
   "language": "python",
   "name": "python3"
  },
  "language_info": {
   "codemirror_mode": {
    "name": "ipython",
    "version": 3
   },
   "file_extension": ".py",
   "mimetype": "text/x-python",
   "name": "python",
   "nbconvert_exporter": "python",
   "pygments_lexer": "ipython3",
   "version": "3.7.4"
  }
 },
 "nbformat": 4,
 "nbformat_minor": 4
}
